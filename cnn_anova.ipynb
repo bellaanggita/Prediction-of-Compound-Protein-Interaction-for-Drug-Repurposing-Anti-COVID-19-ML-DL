{
  "nbformat": 4,
  "nbformat_minor": 0,
  "metadata": {
    "colab": {
      "name": "cnn anova.ipynb",
      "provenance": [],
      "collapsed_sections": []
    },
    "kernelspec": {
      "display_name": "Python 3",
      "name": "python3"
    },
    "language_info": {
      "name": "python"
    }
  },
  "cells": [
    {
      "cell_type": "code",
      "metadata": {
        "colab": {
          "base_uri": "https://localhost:8080/"
        },
        "id": "R4fzJHkyW_ke",
        "outputId": "84416191-57a6-4413-e3d7-3a247023b7bf"
      },
      "source": [
        "from google.colab import drive\n",
        "drive.mount('/content/drive')"
      ],
      "execution_count": null,
      "outputs": [
        {
          "output_type": "stream",
          "text": [
            "Mounted at /content/drive\n"
          ],
          "name": "stdout"
        }
      ]
    },
    {
      "cell_type": "code",
      "metadata": {
        "id": "DjG8vfAMkum_"
      },
      "source": [
        "import pandas as pd\n",
        "import numpy as np\n",
        "x_train = pd.read_csv(\"/content/drive/MyDrive/SKRIPSI/x_trainanova.csv\")\n",
        "y_train = pd.read_csv(\"/content/drive/MyDrive/SKRIPSI/y_train.csv\")"
      ],
      "execution_count": null,
      "outputs": []
    },
    {
      "cell_type": "code",
      "metadata": {
        "id": "6v4yPeOtk-W2"
      },
      "source": [
        "x_test = pd.read_csv(\"/content/drive/MyDrive/SKRIPSI/x_testanova.csv\")\n",
        "y_test = pd.read_csv(\"/content/drive/MyDrive/SKRIPSI/y_test.csv\")"
      ],
      "execution_count": null,
      "outputs": []
    },
    {
      "cell_type": "code",
      "metadata": {
        "id": "Ctw7EAGtJ6GB"
      },
      "source": [
        "del x_test['cid']\n",
        "del x_test['Nama.Protein']\n",
        "del x_test['label']\n",
        "del x_train['cid']\n",
        "del x_train['Nama.Protein']\n",
        "del x_train['label']"
      ],
      "execution_count": null,
      "outputs": []
    },
    {
      "cell_type": "code",
      "metadata": {
        "id": "JeylCzLVxoWE"
      },
      "source": [
        "fpr4 = np.fromfile(\"/content/drive/MyDrive/SKRIPSI/fpr\")\n",
        "fpr4"
      ],
      "execution_count": null,
      "outputs": []
    },
    {
      "cell_type": "code",
      "metadata": {
        "colab": {
          "base_uri": "https://localhost:8080/"
        },
        "id": "lQ_XYzFT3qz3",
        "outputId": "01040be5-5c70-45c4-a499-d68c55fc1634"
      },
      "source": [
        "print('x_train shape:', x_train.shape)\n",
        "print('x_test shape:', x_test.shape)"
      ],
      "execution_count": null,
      "outputs": [
        {
          "output_type": "stream",
          "text": [
            "x_train shape: (17899, 200)\n",
            "x_test shape: (4475, 200)\n"
          ],
          "name": "stdout"
        }
      ]
    },
    {
      "cell_type": "code",
      "metadata": {
        "id": "CxenvdsJMAME"
      },
      "source": [
        "import pandas as pd\n",
        "import numpy as np\n",
        "import matplotlib.pyplot as plt\n",
        "import seaborn as sns\n",
        "from sklearn import svm\n",
        "from sklearn.naive_bayes import GaussianNB\n",
        "from sklearn.svm import SVC\n",
        "from sklearn.tree import DecisionTreeClassifier\n",
        "from tensorflow.keras.models import Sequential\n",
        "from keras.optimizers import Adam\n",
        "from tensorflow.keras.layers import Dense, Dropout, LSTM\n",
        "from keras.layers.recurrent import GRU\n",
        "from keras.layers import Flatten, Conv1D, MaxPool1D\n",
        "from sklearn.metrics import confusion_matrix, classification_report"
      ],
      "execution_count": null,
      "outputs": []
    },
    {
      "cell_type": "code",
      "metadata": {
        "id": "YnzGDeEbNa0u"
      },
      "source": [
        "# Melakukan proses standarisasi\n",
        "from sklearn.preprocessing import StandardScaler\n",
        "\n",
        "sc = StandardScaler()\n",
        "x_train = sc.fit_transform(x_train)\n",
        "x_test = sc.fit_transform(x_test)"
      ],
      "execution_count": null,
      "outputs": []
    },
    {
      "cell_type": "code",
      "metadata": {
        "id": "oZeyDLcMNO-p"
      },
      "source": [
        "# Reshaping untuk variabel x_train dan x_test\n",
        "\n",
        "x_train = np.reshape(x_train, (x_train.shape[0], x_train.shape[1], 1))\n",
        "x_test = np.reshape(x_test, (x_test.shape[0], x_test.shape[1], 1))"
      ],
      "execution_count": null,
      "outputs": []
    },
    {
      "cell_type": "code",
      "metadata": {
        "colab": {
          "base_uri": "https://localhost:8080/"
        },
        "id": "zx6H7713Lo9G",
        "outputId": "64967fc2-8a3b-434b-8ecb-b6458c6c44a0"
      },
      "source": [
        "# Membuat jaringan syarat tiruan untuk model CNN\n",
        "model = Sequential()\n",
        " \n",
        "# Menambah layer CNN yang pertama dan Dropout regularisation\n",
        "model.add(Conv1D(filters=150, kernel_size=5, activation='relu', input_shape=(x_train.shape[1], x_train.shape[2])))\n",
        "model.add(Dropout(0.2))\n",
        " \n",
        "# Menambah layer CNN yang kedua dan Dropout regularisation\n",
        "model.add(Conv1D(filters=100, kernel_size=5, activation='relu', input_shape=(x_train.shape[1], x_train.shape[2])))\n",
        "model.add(Dropout(0.2))\n",
        " \n",
        "# Menambah layer CNN yang ketiga dan Dropout regularisation\n",
        "model.add(Conv1D(filters=50, kernel_size=5, activation='relu', input_shape=(x_train.shape[1], x_train.shape[2])))\n",
        "model.add(Dropout(0.2))\n",
        " \n",
        "# Menambah layer CNN yang keempat dan Dropout regularisation\n",
        "model.add(Conv1D(filters=50, kernel_size=5, activation='relu', input_shape=(x_train.shape[1], x_train.shape[2])))\n",
        "model.add(Dropout(0.2))\n",
        "model.add(MaxPool1D(pool_size=2))\n",
        "model.add(Flatten())\n",
        "\n",
        "# Menambah layer output dan dropout regularisation\n",
        "model.add(Dense(units = 1))\n",
        "\n",
        "opt = Adam(lr=.001)\n",
        " \n",
        "# Compile CNN dengan nilai opt, loss, dan matrics\n",
        "model.compile(optimizer =opt, loss = 'mean_squared_error', metrics=['accuracy'])"
      ],
      "execution_count": null,
      "outputs": [
        {
          "output_type": "stream",
          "text": [
            "/usr/local/lib/python3.7/dist-packages/tensorflow/python/keras/optimizer_v2/optimizer_v2.py:375: UserWarning: The `lr` argument is deprecated, use `learning_rate` instead.\n",
            "  \"The `lr` argument is deprecated, use `learning_rate` instead.\")\n"
          ],
          "name": "stderr"
        }
      ]
    },
    {
      "cell_type": "code",
      "metadata": {
        "id": "wvv5h68-Lo9H",
        "scrolled": false,
        "colab": {
          "base_uri": "https://localhost:8080/"
        },
        "outputId": "b37c9c37-485f-43ed-c952-587a5f733087"
      },
      "source": [
        "import time\n",
        "start = time.time()\n",
        "\n",
        "# Membuat model jaringan syaraf tiruan untuk model CNN\n",
        "history = model.fit(x_train, y_train, epochs = 20, batch_size = 250, validation_data=(x_test, y_test))\n",
        "\n",
        "end = time.time()\n",
        "print(\"Run time [s]: \",end-start)"
      ],
      "execution_count": null,
      "outputs": [
        {
          "output_type": "stream",
          "text": [
            "Epoch 1/20\n",
            "72/72 [==============================] - 86s 1s/step - loss: 0.1371 - accuracy: 0.8333 - val_loss: 0.1223 - val_accuracy: 0.8328\n",
            "Epoch 2/20\n",
            "72/72 [==============================] - 85s 1s/step - loss: 0.1040 - accuracy: 0.8678 - val_loss: 0.0809 - val_accuracy: 0.8936\n",
            "Epoch 3/20\n",
            "72/72 [==============================] - 84s 1s/step - loss: 0.0789 - accuracy: 0.8993 - val_loss: 0.0744 - val_accuracy: 0.8943\n",
            "Epoch 4/20\n",
            "72/72 [==============================] - 84s 1s/step - loss: 0.0657 - accuracy: 0.9203 - val_loss: 0.0558 - val_accuracy: 0.9330\n",
            "Epoch 5/20\n",
            "72/72 [==============================] - 84s 1s/step - loss: 0.0590 - accuracy: 0.9293 - val_loss: 0.0537 - val_accuracy: 0.9345\n",
            "Epoch 6/20\n",
            "72/72 [==============================] - 84s 1s/step - loss: 0.0561 - accuracy: 0.9317 - val_loss: 0.0527 - val_accuracy: 0.9339\n",
            "Epoch 7/20\n",
            "72/72 [==============================] - 88s 1s/step - loss: 0.0541 - accuracy: 0.9350 - val_loss: 0.0519 - val_accuracy: 0.9341\n",
            "Epoch 8/20\n",
            "72/72 [==============================] - 86s 1s/step - loss: 0.0528 - accuracy: 0.9349 - val_loss: 0.0501 - val_accuracy: 0.9343\n",
            "Epoch 9/20\n",
            "72/72 [==============================] - 86s 1s/step - loss: 0.0520 - accuracy: 0.9366 - val_loss: 0.0494 - val_accuracy: 0.9374\n",
            "Epoch 10/20\n",
            "72/72 [==============================] - 86s 1s/step - loss: 0.0506 - accuracy: 0.9378 - val_loss: 0.0492 - val_accuracy: 0.9372\n",
            "Epoch 11/20\n",
            "72/72 [==============================] - 86s 1s/step - loss: 0.0510 - accuracy: 0.9366 - val_loss: 0.0485 - val_accuracy: 0.9363\n",
            "Epoch 12/20\n",
            "72/72 [==============================] - 86s 1s/step - loss: 0.0490 - accuracy: 0.9393 - val_loss: 0.0477 - val_accuracy: 0.9394\n",
            "Epoch 13/20\n",
            "72/72 [==============================] - 86s 1s/step - loss: 0.0489 - accuracy: 0.9401 - val_loss: 0.0473 - val_accuracy: 0.9399\n",
            "Epoch 14/20\n",
            "72/72 [==============================] - 86s 1s/step - loss: 0.0483 - accuracy: 0.9413 - val_loss: 0.0471 - val_accuracy: 0.9370\n",
            "Epoch 15/20\n",
            "72/72 [==============================] - 85s 1s/step - loss: 0.0484 - accuracy: 0.9397 - val_loss: 0.0479 - val_accuracy: 0.9374\n",
            "Epoch 16/20\n",
            "72/72 [==============================] - 85s 1s/step - loss: 0.0474 - accuracy: 0.9407 - val_loss: 0.0475 - val_accuracy: 0.9377\n",
            "Epoch 17/20\n",
            "72/72 [==============================] - 85s 1s/step - loss: 0.0474 - accuracy: 0.9405 - val_loss: 0.0470 - val_accuracy: 0.9399\n",
            "Epoch 18/20\n",
            "72/72 [==============================] - 85s 1s/step - loss: 0.0459 - accuracy: 0.9433 - val_loss: 0.0475 - val_accuracy: 0.9412\n",
            "Epoch 19/20\n",
            "72/72 [==============================] - 85s 1s/step - loss: 0.0466 - accuracy: 0.9416 - val_loss: 0.0471 - val_accuracy: 0.9403\n",
            "Epoch 20/20\n",
            "72/72 [==============================] - 85s 1s/step - loss: 0.0464 - accuracy: 0.9420 - val_loss: 0.0465 - val_accuracy: 0.9408\n",
            "Run time [s]:  1762.7356407642365\n"
          ],
          "name": "stdout"
        }
      ]
    },
    {
      "cell_type": "code",
      "metadata": {
        "id": "ani8h4kGDboO"
      },
      "source": [
        "# save the encoder to file\n",
        "model.save('/content/drive/MyDrive/SKRIPSI/modelcnnAnovaAAC450.h5')"
      ],
      "execution_count": null,
      "outputs": []
    },
    {
      "cell_type": "markdown",
      "metadata": {
        "id": "-rFXCvlALo9I"
      },
      "source": [
        "#### Melihat Tingkat Akurasi Pada Variable Test & Train Di CNN 1 Dimensi"
      ]
    },
    {
      "cell_type": "code",
      "metadata": {
        "colab": {
          "base_uri": "https://localhost:8080/"
        },
        "id": "cKR9y6wSLo9I",
        "outputId": "8c44397b-cfe7-443d-ef03-c351cfa02412"
      },
      "source": [
        "# Melakukan pengujian untuk variabel test dan variabel train\n",
        "print(\"------------Prediksi dari variabel test------------------\")\n",
        "y_pred = model.predict(x_test)\n",
        "print(y_pred)"
      ],
      "execution_count": null,
      "outputs": [
        {
          "output_type": "stream",
          "text": [
            "------------Prediksi dari variabel test------------------\n",
            "[[0.10752787]\n",
            " [1.1408943 ]\n",
            " [0.75668794]\n",
            " ...\n",
            " [0.00376293]\n",
            " [0.0130725 ]\n",
            " [0.05741597]]\n"
          ],
          "name": "stdout"
        }
      ]
    },
    {
      "cell_type": "code",
      "metadata": {
        "colab": {
          "base_uri": "https://localhost:8080/"
        },
        "id": "MR9EfExx9n1C",
        "outputId": "24b4d008-ba5c-4abc-a9c3-1decac822121"
      },
      "source": [
        "#1100\n",
        "from sklearn.metrics import confusion_matrix\n",
        "confusion_matrix(y_test, y_pred.round())"
      ],
      "execution_count": null,
      "outputs": [
        {
          "output_type": "execute_result",
          "data": {
            "text/plain": [
              "array([[3589,  136],\n",
              "       [ 130,  620]])"
            ]
          },
          "metadata": {
            "tags": []
          },
          "execution_count": 35
        }
      ]
    },
    {
      "cell_type": "code",
      "metadata": {
        "colab": {
          "base_uri": "https://localhost:8080/"
        },
        "id": "CCB-zsN3--FL",
        "outputId": "d92176d7-21b4-48f3-ee36-576584d9aeae"
      },
      "source": [
        "#Import scikit-learn metrics module for accuracy calculation #aac 200\n",
        "from sklearn import metrics\n",
        "\n",
        "# Model Accuracy: how often is the classifier correct?\n",
        "print(\"Accuracy:\",metrics.accuracy_score(y_test, y_pred.round()))\n",
        "print(\"F1:\",metrics.f1_score(y_test, y_pred.round()))\n",
        "print(\"Precision:\",metrics.precision_score(y_test, y_pred.round()))\n",
        "print(\"Recall:\",metrics.recall_score(y_test, y_pred.round()))"
      ],
      "execution_count": null,
      "outputs": [
        {
          "output_type": "stream",
          "text": [
            "Accuracy: 0.9405586592178771\n",
            "F1: 0.8233731739707836\n",
            "Precision: 0.8201058201058201\n",
            "Recall: 0.8266666666666667\n"
          ],
          "name": "stdout"
        }
      ]
    },
    {
      "cell_type": "code",
      "metadata": {
        "id": "jm25gyJg5z81"
      },
      "source": [
        ""
      ],
      "execution_count": null,
      "outputs": []
    },
    {
      "cell_type": "code",
      "metadata": {
        "id": "pWf5s4Cj5z_2"
      },
      "source": [
        ""
      ],
      "execution_count": null,
      "outputs": []
    },
    {
      "cell_type": "code",
      "metadata": {
        "id": "cYg1njqN50Fh"
      },
      "source": [
        ""
      ],
      "execution_count": null,
      "outputs": []
    },
    {
      "cell_type": "code",
      "metadata": {
        "colab": {
          "base_uri": "https://localhost:8080/"
        },
        "id": "Btp7hJfWNWQC",
        "outputId": "31903998-9748-4be0-a603-233a51da8dcd"
      },
      "source": [
        "#700\n",
        "from sklearn.metrics import confusion_matrix\n",
        "confusion_matrix(y_test, y_pred.round())"
      ],
      "execution_count": null,
      "outputs": [
        {
          "output_type": "execute_result",
          "data": {
            "text/plain": [
              "array([[3585,  140],\n",
              "       [ 126,  624]])"
            ]
          },
          "metadata": {
            "tags": []
          },
          "execution_count": 55
        }
      ]
    },
    {
      "cell_type": "code",
      "metadata": {
        "colab": {
          "base_uri": "https://localhost:8080/"
        },
        "id": "IqV7YpbPKKhv",
        "outputId": "5c2d747d-cfad-4f9f-f1e8-7ec9817397f6"
      },
      "source": [
        "#Import scikit-learn metrics module for accuracy calculation #aac 700\n",
        "from sklearn import metrics\n",
        "\n",
        "# Model Accuracy: how often is the classifier correct?\n",
        "print(\"Accuracy:\",metrics.accuracy_score(y_test, y_pred.round()))\n",
        "print(\"F1:\",metrics.f1_score(y_test, y_pred.round()))\n",
        "print(\"Precision:\",metrics.precision_score(y_test, y_pred.round()))\n",
        "print(\"Recall:\",metrics.recall_score(y_test, y_pred.round()))"
      ],
      "execution_count": null,
      "outputs": [
        {
          "output_type": "stream",
          "text": [
            "Accuracy: 0.9405586592178771\n",
            "F1: 0.8243064729194187\n",
            "Precision: 0.8167539267015707\n",
            "Recall: 0.832\n"
          ],
          "name": "stdout"
        }
      ]
    },
    {
      "cell_type": "code",
      "metadata": {
        "colab": {
          "base_uri": "https://localhost:8080/"
        },
        "id": "HMPmoZ7iNQib",
        "outputId": "80e788bd-aab7-4674-c577-5662aa6b7424"
      },
      "source": [
        "#Import scikit-learn metrics module for accuracy calculation #aac 900\n",
        "from sklearn import metrics\n",
        "\n",
        "# Model Accuracy: how often is the classifier correct?\n",
        "print(\"Accuracy:\",metrics.accuracy_score(y_test, y_pred.round()))\n",
        "print(\"F1:\",metrics.f1_score(y_test, y_pred.round()))\n",
        "print(\"Precision:\",metrics.precision_score(y_test, y_pred.round()))\n",
        "print(\"Recall:\",metrics.recall_score(y_test, y_pred.round()))"
      ],
      "execution_count": null,
      "outputs": [
        {
          "output_type": "stream",
          "text": [
            "Accuracy: 0.9398882681564246\n",
            "F1: 0.8207861425716189\n",
            "Precision: 0.8202396804260985\n",
            "Recall: 0.8213333333333334\n"
          ],
          "name": "stdout"
        }
      ]
    },
    {
      "cell_type": "markdown",
      "metadata": {
        "id": "hzm7cMysLo9K"
      },
      "source": [
        "Ket:\n",
        "1. Precision: merupakan seberapa akurat model yang digunakan dalam melakukan klasifikasi.\n",
        "2. Recall: merupakan gambaran dari keberhasilan suatu algoritma.\n",
        "3. F1-score: Perbandingan rata-rata precision dan recall yang telah dibobotkan."
      ]
    },
    {
      "cell_type": "markdown",
      "metadata": {
        "id": "F4j4oWPXLo9L"
      },
      "source": [
        "#### Melihat Tingkat Akurasi Dari Kedua Variabel Data (Train & Test) Di CNN"
      ]
    },
    {
      "cell_type": "code",
      "metadata": {
        "colab": {
          "base_uri": "https://localhost:8080/",
          "height": 489
        },
        "id": "LoUz4ChKLo9M",
        "outputId": "9dc19ae8-72ec-4605-ba8c-d883bece3f36"
      },
      "source": [
        "# Membuat visualisasi dari hasil neural network antara loss, validation loss dan akurasi, validation akurasi\n",
        "plt.figure(figsize=(15,5))\n",
        "\n",
        "# Membuat visualisasi untuk nilai loss dan validation loss\n",
        "plt.subplot(1,2,1)\n",
        "plt.plot(history.history['loss'], color=\"red\", label=\"Loss\")\n",
        "plt.plot(history.history['val_loss'], color=\"yellow\", label=\"Validation Loss\")\n",
        "plt.title(\"Visualisasi untuk nilai loss & validation loss\")\n",
        "plt.xlabel(\"Jumlah Epochs\")\n",
        "plt.legend()\n",
        "\n",
        "# Membuat visualisasi untuk nilai akurasi dan validation akurasi\n",
        "plt.subplot(1,2,2)\n",
        "plt.plot(history.history['accuracy'], color=\"red\", label=\"Accuracy\")\n",
        "plt.plot(history.history['val_accuracy'], color=\"yellow\", label=\"Validation Accuracy\")\n",
        "plt.title(\"Visualisasi untuk nilai akurasi & validation akurasi\")\n",
        "plt.xlabel(\"Jumlah Epochs\")\n",
        "plt.legend()\n",
        "plt.show();"
      ],
      "execution_count": null,
      "outputs": [
        {
          "output_type": "stream",
          "text": [
            "Exception ignored in: <function IteratorResourceDeleter.__del__ at 0x7f89988574d0>\n",
            "Traceback (most recent call last):\n",
            "  File \"/usr/local/lib/python3.7/dist-packages/tensorflow/python/data/ops/iterator_ops.py\", line 546, in __del__\n",
            "    handle=self._handle, deleter=self._deleter)\n",
            "  File \"/usr/local/lib/python3.7/dist-packages/tensorflow/python/ops/gen_dataset_ops.py\", line 1264, in delete_iterator\n",
            "    _ctx, \"DeleteIterator\", name, handle, deleter)\n",
            "KeyboardInterrupt: \n"
          ],
          "name": "stderr"
        },
        {
          "output_type": "display_data",
          "data": {
            "image/png": "[encoded data removed]",
            "text/plain": [
              "<Figure size 1080x360 with 2 Axes>"
            ]
          },
          "metadata": {
            "tags": [],
            "needs_background": "light"
          }
        }
      ]
    },
    {
      "cell_type": "code",
      "metadata": {
        "colab": {
          "base_uri": "https://localhost:8080/",
          "height": 295
        },
        "id": "mFD-jKJE9NwS",
        "outputId": "266ec251-87f8-4bbf-c0cb-7b53d9d4e814"
      },
      "source": [
        "import sklearn.metrics as metrics\n",
        "# calculate the fpr and tpr for all thresholds of the classification\n",
        "fpr, tpr, threshold = metrics.roc_curve(y_test, y_pred)\n",
        "roc_auc = metrics.auc(fpr, tpr)\n",
        "\n",
        "# method I: plt\n",
        "import matplotlib.pyplot as plt\n",
        "plt.title('Receiver Operating Characteristic')\n",
        "plt.plot(fpr, tpr, 'b', label = 'AUC = %0.4f' % roc_auc)\n",
        "plt.legend(loc = 'lower right')\n",
        "plt.plot([0, 1], [0, 1],'r--')\n",
        "plt.xlim([0, 1])\n",
        "plt.ylim([0, 1])\n",
        "plt.ylabel('True Positive Rate')\n",
        "plt.xlabel('False Positive Rate')\n",
        "plt.show()"
      ],
      "execution_count": null,
      "outputs": [
        {
          "output_type": "display_data",
          "data": {
            "image/png": "[encoded data removed]",
            "text/plain": [
              "<Figure size 432x288 with 1 Axes>"
            ]
          },
          "metadata": {
            "tags": [],
            "needs_background": "light"
          }
        }
      ]
    },
    {
      "cell_type": "code",
      "metadata": {
        "id": "Lv2qvkPO9dka"
      },
      "source": [
        "fpr.tofile(\"/content/drive/MyDrive/SKRIPSI/fprcnnAnovaAAC200FIX\")\n",
        "tpr.tofile(\"/content/drive/MyDrive/SKRIPSI/tprcnnAnovaAAC200FIX\")"
      ],
      "execution_count": null,
      "outputs": []
    },
    {
      "cell_type": "code",
      "metadata": {
        "colab": {
          "base_uri": "https://localhost:8080/"
        },
        "id": "etTAxLRFBQIN",
        "outputId": "2412b6a6-c947-4932-e721-dcc5f3c45e0e"
      },
      "source": [
        "roc_auc"
      ],
      "execution_count": null,
      "outputs": [
        {
          "output_type": "execute_result",
          "data": {
            "text/plain": [
              "0.9735525727069351"
            ]
          },
          "metadata": {
            "tags": []
          },
          "execution_count": 37
        }
      ]
    }
  ]
}